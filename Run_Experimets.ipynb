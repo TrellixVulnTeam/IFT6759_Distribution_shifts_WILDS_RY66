{
  "cells": [
    {
      "cell_type": "markdown",
      "metadata": {
        "id": "view-in-github",
        "colab_type": "text"
      },
      "source": [
        "<a href=\"https://colab.research.google.com/github/vijayakuruba/IFT6759_Distribution_shifts_WILDS/blob/main/Run_Experimets.ipynb\" target=\"_parent\"><img src=\"https://colab.research.google.com/assets/colab-badge.svg\" alt=\"Open In Colab\"/></a>"
      ]
    },
    {
      "cell_type": "markdown",
      "source": [
        "#Mount drive"
      ],
      "metadata": {
        "id": "8E-KYxSObiOK"
      }
    },
    {
      "cell_type": "code",
      "source": [
        "from google.colab import drive\n",
        "drive.mount('/content/drive')\n",
        "#create a directory wilds_run\n",
        "%cd /content/drive/MyDrive/wilds_run/\n",
        "!git clone https://github.com/vijayakuruba/IFT6759_Distribution_shifts_WILDS.git\n",
        "%cd IFT6759_Distribution_shifts_WILDS\n",
        "!pip install -e .\n",
        "!pip install transformers\n",
        "!pip install wandb\n",
        "!pwd\n",
        "%cd examples\n",
        "! python run_expt.py --root_dir data --dataset iwildcam --algorithm ERM --seed 0 --lr 3e-05 --weight_decay 0 --frac 0.01 --model densenet121 --target_resolution 448 448 --n_epochs 3 --additional_train_transform weak --download\n"
      ],
      "metadata": {
        "id": "U44phMLlMBdO"
      },
      "execution_count": null,
      "outputs": []
    },
    {
      "cell_type": "markdown",
      "source": [
        "#Download dataset seperately"
      ],
      "metadata": {
        "id": "Z8pkybsae_LQ"
      }
    },
    {
      "cell_type": "code",
      "execution_count": null,
      "metadata": {
        "colab": {
          "base_uri": "https://localhost:8080/"
        },
        "id": "Khcj-d4cohjq",
        "outputId": "89194647-ba80-4b80-a920-5c223b4b0a9b"
      },
      "outputs": [
        {
          "output_type": "stream",
          "name": "stdout",
          "text": [
            "/content/drive/My Drive/IFT6759/clean/IFT6759_Distribution_shifts_WILDS/wilds\n",
            "common\t  download_datasets.py\t__init__.py  version.py\n",
            "datasets  get_dataset.py\t__pycache__\n"
          ]
        }
      ],
      "source": [
        "%cd /content/drive/MyDrive/wilds_run/IFT6759_Distribution_shifts_WILDS/wilds\n",
        "! python download_datasets.py --root_dir data"
      ]
    },
    {
      "cell_type": "markdown",
      "source": [
        "#Example code for running Experiments"
      ],
      "metadata": {
        "id": "jOed2hzYiptE"
      }
    },
    {
      "cell_type": "code",
      "source": [
        "! python run_expt.py --root_dir data --dataset iwildcam --algorithm ERM  --model densenet121 --seed 1 --lr 3e-05 --weight_decay 0 --frac 0.4 ---target_resolution 448 448 --n_epochs 10 --mixcut 0.4"
      ],
      "metadata": {
        "id": "AM0dxb4djAeo"
      },
      "execution_count": null,
      "outputs": []
    },
    {
      "cell_type": "code",
      "source": [
        "! python run_expt.py --root_dir data --dataset iwildcam --algorithm ERM --seed 0 --lr 3e-05 --weight_decay 0 --frac 0.4 --target_resolution 448 448 --n_epochs 10"
      ],
      "metadata": {
        "id": "imkhMHwjigaM"
      },
      "execution_count": null,
      "outputs": []
    }
  ],
  "metadata": {
    "accelerator": "GPU",
    "colab": {
      "name": "IFT6759.ipynb",
      "provenance": [],
      "collapsed_sections": [],
      "authorship_tag": "ABX9TyNJShYqtb++rmONZrbDczEf",
      "include_colab_link": true
    },
    "kernelspec": {
      "display_name": "Python 3",
      "name": "python3"
    },
    "language_info": {
      "name": "python"
    }
  },
  "nbformat": 4,
  "nbformat_minor": 0
}